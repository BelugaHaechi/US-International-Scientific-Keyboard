{
 "cells": [
  {
   "cell_type": "code",
   "execution_count": 35,
   "metadata": {},
   "outputs": [],
   "source": [
    "import random as r"
   ]
  },
  {
   "cell_type": "code",
   "execution_count": 10,
   "metadata": {},
   "outputs": [],
   "source": [
    "PATH = '../US International Scientific.klc'\n",
    "klc = open(PATH, encoding='UTF-16')\n",
    "klc = klc.readlines()"
   ]
  },
  {
   "cell_type": "code",
   "execution_count": 14,
   "metadata": {},
   "outputs": [],
   "source": [
    "normal = []\n",
    "shift = []\n",
    "altgr = []\n",
    "saltgr = []\n",
    "for line in klc[25:76]:\n",
    "    # extract live keys\n",
    "    line = line.split()\n",
    "    if len(line) > 7:\n",
    "        normal.append(line[3])\n",
    "        shift.append(line[4])\n",
    "        altgr.append(line[6])\n",
    "        saltgr.append(line[7])"
   ]
  },
  {
   "cell_type": "code",
   "execution_count": 21,
   "metadata": {},
   "outputs": [],
   "source": [
    "all = normal + shift + altgr + saltgr\n",
    "allchr = []\n",
    "for i in all:\n",
    "    if len(i)==1:\n",
    "        pass\n",
    "    elif len(i)>=4:\n",
    "        i = i[:4]\n",
    "        i = chr(int(i,16))\n",
    "    elif i=='-1':\n",
    "        continue\n",
    "    allchr.append(i)"
   ]
  },
  {
   "cell_type": "code",
   "execution_count": 24,
   "metadata": {},
   "outputs": [
    {
     "name": "stdout",
     "output_type": "stream",
     "text": [
      "1 2 3 4 5 6 7 8 9 0 - = q w e r t y u i o p [ ] a s d f g h j k l ; ' ` \\ z x c v b n m , . /   \\ . ! @ # $ % ^ & * ( ) _ + Q W E R T Y U I O P { } A S D F G H J K L : \" ~ | Z X C V B N M < > ?   | . ′ ″ ‴ ¤ € ̌ ⃗ ∞ ∝ ̊ – ª ÷ ϵ ϶ ® † ± ∪ ı ϕ ℗ ‹ › ɐ ß ∂ ϝ γ ℏ ← ↔ → ∴ ́ ̀ ↓ ≠ × © ∨ ̄ ¬ ↦ ̧ ̣ ̸   ↓ ¡ √ ∛ £ ‰ ̂ ¦ ̇ ⟨ ⟩ — º ≡ Ʃ ∃ ™ ‡ ¥ ∩ ʃ ∅ ¶ « » ∀ § ∆ Ϝ ∇ Ħ ⇐ ⇔ ⇒ ∵ ̈ ̃ ↑ Ƶ ≈ ¢ ∧ ̆ ⊻ µ < > ¿ ​ ↑\n"
     ]
    }
   ],
   "source": [
    "print(*allchr)"
   ]
  },
  {
   "cell_type": "code",
   "execution_count": 29,
   "metadata": {},
   "outputs": [],
   "source": [
    "deadchr = []\n",
    "for line in klc[76:873]:\n",
    "    if line!='\\n' and line[0]!='D':\n",
    "        deadchr.append(line[-2])"
   ]
  },
  {
   "cell_type": "code",
   "execution_count": 30,
   "metadata": {},
   "outputs": [
    {
     "name": "stdout",
     "output_type": "stream",
     "text": [
      "ň č ž ǎ ǰ ǧ ď š ľ ǩ ě ř ǔ ǐ ť ǒ Ň Č Ž Ǎ Ǧ Ď Š Ľ Ǩ Ě Ř Ǔ Ǐ Ť Ǒ Ȟ ȟ ˇ ĉ â ĥ ĵ ĝ ŝ ŵ ê û î ŷ ô Ĉ Â Ĥ Ĵ Ĝ Ŝ Ŵ Ê Û Î Ŷ Ô Ẑ ẑ ˆ ǌ æ ǳ ĳ þ œ ¦ Ǌ Æ Ǳ Ĳ Þ Œ ⅋ ǉ Ǉ ð Ð ﬀ ﬁ ﬂ ﬃ ﬄ ﬅ ﬆ Ƕ ƕ Ȣ ȣ Ƣ ƣ Ŋ ŋ ſ ‍ Ċ ċ Ė ė Ġ ġ İ Ż ż Ȧ ȧ Ȯ ȯ Ḃ ḃ Ḋ ḋ Ḟ ḟ Ḣ ḣ Ṁ ṁ Ṅ ṅ Ṗ ṗ Ṙ ṙ Ṡ ṡ Ṫ ṫ Ẇ ẇ Ẋ ẋ Ẏ ẏ Ŀ ŀ ˙ å ů ○ ℃ Å ℉ Ů ◯ ◌ ● ẘ ẙ ⬤ ⦵ ⦻ ◍ ° ₌ ₙ ᵥ ₓ ₘ ₐ ₕ ₛ ₗ ₖ ₑ ᵣ ₚ ᵤ ᵢ ₜ ₒ ₈ ₉ ₀ ₋ ₆ ₇ ₄ ₅ ₂ ₃ ₁ ₊ ₍ ₎ ⱼ ª ⁼ ᵇ ⁿ ᵛ ˣ ᵐ ᵃ ʰ ʲ ᵍ ᵈ ˢ ˡ ᵏ ʷ ᵉ ʳ ᵖ ᵘ ⁱ ᵗ ʸ ᵒ ⁸ ⁹ ⁰ ⁻ ⁶ ⁷ ⁴ ⁵ ² ³ ¹ ⁺ ᴮ ᴺ ᴹ ᴬ ᴴ ᴶ ᴳ ᴰ ᴸ ᴷ ᵂ ᴱ ᴿ ᴾ ᵁ ᴵ ᵀ ᴼ ⁽ ⁾ ⱽ ꟲ ꟳ ꟴ ᶜ ᶠ ᶻ º ⅀ ∏ ∐ ⋁ ⋀ ⋃ ⋂ ⨀ ⨁ ⨂ ∑ Ʃ ∌ ∉ ϶ ∋ ∄ ∈ ⊧ ⊦ ⊩ ⊤ ⊣ ⊢ ⟂ ⊥ ⊨ ∓ ± ⊬ ⊮ ⊭ ± ∱ ∲ ∳ ∯ ∰ ⨌ ∮ ∬ ∭ ∫ ʃ ⊜ ⊗ ⊙ ⊘ ⊚ ⊖ ⊕ ⊛ ⊝ ∎ ∘ ⦶ ⦸ ⧀ ⧁ ⮾ ϕ ⊅ ⊄ ɐ ⊆ ⊇ ⊃ ∁ ∠ ⊈ ⊉ ⊂ β ν ω ψ χ ζ μ α η ξ γ φ δ σ λ κ ς ε ρ π θ ι τ υ ο ϑ ϱ ℸ ϰ ℶ ℷ ℵ Β Ν Ω Ψ Χ Ζ Μ Α Η Ξ Γ Φ Δ Σ Λ Κ ϖ Ε Ρ Π Θ Ι Τ Υ Ο ϴ γ ℭ ℨ ℌ ℜ ℑ ℌ ń ć ź ḿ á ǵ ś ĺ ḱ ẃ é ŕ ṕ ú í ý ó Ń Ć Ź Ḿ Á Ǵ Ś Ĺ Ḱ Ẃ É Ŕ Ṕ Ú Í Ý Ó ‘ ’ ‚ ‛ ´ ä ë ü ï ÿ ö ⃜ ̈ ⃛ ̇ Ä Ë Ü Ï Ö Ÿ Ḧ ḧ Ẅ ẅ Ẍ ẍ ẗ ̋ ̏ ˝ “ ” „ ‟ ¨ à ẁ è ù ì ỳ ò À Ẁ È Ù Ì Ỳ Ò Ǹ ǹ ` ≅ ñ ṽ ã ẽ ũ ĩ ỹ õ Ñ Ṽ Ã Ẽ Ũ Ĩ Ỹ Õ ≃ ˜ ⅉ ⅆ ⅇ ⅈ ℕ ℂ ℤ ℍ ⅅ ℝ ℙ ℚ ℤ ̅ ̿ ¯ Ā ā Ē ē Ī ī Ō ō Ū ū Ḡ ḡ Ȳ ȳ ˉ ă ğ ĕ ŭ ĭ ŏ Ă Ğ Ĕ Ŭ Ĭ Ŏ ̑ ˘ ℊ ℓ ℯ ℴ ℬ ℳ ℋ ℱ ℒ ℰ ℛ ℘ ℐ ℳ ˛ ņ ç ̨ ą ḩ ģ ḑ ş ļ ķ ę ŗ ų į ţ ǫ Ņ Ç Ą Ḩ Ģ Ḑ Ş Ļ Ķ Ę Ŗ Ų Į Ţ Ǫ ¸ ≦ ≮ ⌊ ≤ ≰ ≶ ≪ ⌈ ≲ ≤ ⋱ … ⋰ ⋯ ⋮ Ḅ ḅ Ḍ ḍ Ḥ ḥ Ḳ ḳ Ḷ ḷ Ṃ ṃ Ṇ ṇ Ṛ ṛ Ṣ ṣ Ṭ ṭ Ṿ ṿ Ẉ ẉ Ẓ ẓ Ạ ạ Ẹ ẹ Ị ị Ọ ọ Ụ ụ Ỵ ỵ ̤ ⋅ · ≧ ≯ ⌋ ≥ ≱ ≫ ≷ ⌉ ≳ ≥ ƀ ƶ ħ ǥ đ ł ɨ ŧ ø Ƶ Ħ Ǥ Đ Ł Ɨ Ŧ Ø Ⱥ Ȼ ȼ Ƀ Ɇ ɇ Ɉ ɉ Ɍ ɍ Ɏ ɏ ᵽ Ᵽ ⱥ Ꝁ ꝁ Ꞙ ꞙ Ꞹ ꞹ ⅛ ¼ ⅜ ½ ⅝ ¾ ⅞ ⅔ ⅓ ↉ ⅕ ⅖ ⅗ ⅘ ⅚ ⅙ ⅐ ⅟ ⅑ ⅒ ⁄\n"
     ]
    }
   ],
   "source": [
    "print(*deadchr)"
   ]
  },
  {
   "cell_type": "code",
   "execution_count": 31,
   "metadata": {},
   "outputs": [],
   "source": [
    "chrs = allchr + deadchr"
   ]
  },
  {
   "cell_type": "code",
   "execution_count": 32,
   "metadata": {},
   "outputs": [
    {
     "data": {
      "text/plain": [
       "909"
      ]
     },
     "execution_count": 32,
     "metadata": {},
     "output_type": "execute_result"
    }
   ],
   "source": [
    "len(chrs)"
   ]
  },
  {
   "cell_type": "code",
   "execution_count": 39,
   "metadata": {},
   "outputs": [
    {
     "name": "stdout",
     "output_type": "stream",
     "text": [
      "∐²⇔ĲꝀ∵y¬Æᴮḟø←ḥœńẄÖ⊘ṬỲκćCʃ⊂ℚŀĻℶ\n",
      "⋃ẍŒṖẎǨÅ!ʷŭ*⋯⅑ƣğᵐ⦶ᵖḡḢ&⊇ℕþϝ⇐∪EƶΝ\n",
      "¾⊄Bc.ℌ{Ɉ⊃ĳ◯ᴷ⊆ℵαḋ˙ĉ⁺⟨Ǫ∬‰ĨI—ₓĽᴿē\n",
      "⅔⁰ᴹłęǐẊℏ∭∄◌₆8Ṽ^ì∇⨌ĭΣ¤Ị«∈ʲₖŊ“∏ϑ\n",
      "ķ⅒₂⊻ţŽîįΞᴺ⁽⁾”ℜ=ẉɎĀ̇⊦Ĵ)Ėḱᶻᵤ˘>3Φ\n",
      "L`ẏℙu4í⁄ξﬄ⨁ζ£Ŭ+ΡĦ⊥μẘļ»ο↉⟩®ḩŴɆẒ\n",
      "ƀZYᴸ₊⅐qǵΛḌẌǳẼ|ĢΨṡwĶﬃȟℱĊ˜sḾŨ|[₁\n",
      "i⋀<Ðıx₀⋰½ℍ≥⦵η¶ÑƩᵇpϖ×Ä↔⅕ç/ḳ¡ª5ₐ\n"
     ]
    }
   ],
   "source": [
    "r.shuffle(chrs)\n",
    "cnt = 0\n",
    "w = 30\n",
    "for i in range(8):\n",
    "    print(*(chrs[w*cnt:w*(cnt+1)]), sep='')\n",
    "    cnt += 1"
   ]
  },
  {
   "cell_type": "code",
   "execution_count": 40,
   "metadata": {},
   "outputs": [
    {
     "data": {
      "text/plain": [
       "878"
      ]
     },
     "execution_count": 40,
     "metadata": {},
     "output_type": "execute_result"
    }
   ],
   "source": [
    "len(set(chrs))"
   ]
  },
  {
   "cell_type": "code",
   "execution_count": 41,
   "metadata": {},
   "outputs": [
    {
     "data": {
      "text/plain": [
       "95"
      ]
     },
     "execution_count": 41,
     "metadata": {},
     "output_type": "execute_result"
    }
   ],
   "source": [
    "len(set(normal+shift))"
   ]
  }
 ],
 "metadata": {
  "kernelspec": {
   "display_name": "Python 3",
   "language": "python",
   "name": "python3"
  },
  "language_info": {
   "codemirror_mode": {
    "name": "ipython",
    "version": 3
   },
   "file_extension": ".py",
   "mimetype": "text/x-python",
   "name": "python",
   "nbconvert_exporter": "python",
   "pygments_lexer": "ipython3",
   "version": "3.10.7"
  }
 },
 "nbformat": 4,
 "nbformat_minor": 2
}
